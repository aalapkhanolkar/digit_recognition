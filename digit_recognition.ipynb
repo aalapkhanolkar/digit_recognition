{
 "cells": [
  {
   "cell_type": "markdown",
   "id": "connected-ferry",
   "metadata": {},
   "source": [
    "Digit Recognition using PyTorch:"
   ]
  },
  {
   "cell_type": "code",
   "execution_count": 10,
   "id": "amber-liberia",
   "metadata": {},
   "outputs": [],
   "source": [
    "import torch\n",
    "import torchvision\n",
    "from torchvision import transforms, datasets\n",
    "import torch.nn as nn\n",
    "import torch.nn.functional as F\n",
    "import torch.optim as optim\n",
    "import matplotlib.pyplot as plt"
   ]
  },
  {
   "cell_type": "markdown",
   "id": "indian-facility",
   "metadata": {},
   "source": [
    "MNIST Dataset is collection of 70000 handwritten digits split into training and test set of 60000 and 10000 images respectively."
   ]
  },
  {
   "cell_type": "code",
   "execution_count": 11,
   "id": "rotary-parent",
   "metadata": {},
   "outputs": [],
   "source": [
    "train=datasets.MNIST('', train=True, download=True,  transform=transforms.Compose([transforms.ToTensor()]))\n",
    "test=datasets.MNIST('', train=True, download=False,  transform=transforms.Compose([transforms.ToTensor()]))\n",
    "trainset=torch.utils.data.DataLoader(train,batch_size=10,shuffle=True)\n",
    "testset=torch.utils.data.DataLoader(test,batch_size=10,shuffle=True)"
   ]
  },
  {
   "cell_type": "markdown",
   "id": "daily-valuation",
   "metadata": {},
   "source": [
    "Now we will create our own Neural Network:"
   ]
  },
  {
   "cell_type": "code",
   "execution_count": 12,
   "id": "internal-power",
   "metadata": {},
   "outputs": [
    {
     "name": "stdout",
     "output_type": "stream",
     "text": [
      "Net(\n",
      "  (fc1): Linear(in_features=784, out_features=64, bias=True)\n",
      "  (fc2): Linear(in_features=64, out_features=64, bias=True)\n",
      "  (fc3): Linear(in_features=64, out_features=64, bias=True)\n",
      "  (fc4): Linear(in_features=64, out_features=10, bias=True)\n",
      ")\n"
     ]
    }
   ],
   "source": [
    "class Net(nn.Module):\n",
    "    def __init__(self):\n",
    "        super().__init__()\n",
    "        self.fc1 = nn.Linear(28*28, 64)  ##The shape of the image... flat row of pixel\n",
    "        self.fc2 = nn.Linear(64, 64)\n",
    "        self.fc3 = nn.Linear(64, 64)\n",
    "        self.fc4 = nn.Linear(64, 10)\n",
    "    def forward(self,x):\n",
    "        x =F.relu(self.fc1(x))\n",
    "        x =F.relu(self.fc2(x))\n",
    "        x =F.relu(self.fc3(x))\n",
    "        x =self.fc4(x)\n",
    "        return F.log_softmax(x,dim=1)\n",
    "        \n",
    "net=Net()\n",
    "print(net)"
   ]
  },
  {
   "cell_type": "code",
   "execution_count": 13,
   "id": "gentle-clock",
   "metadata": {},
   "outputs": [
    {
     "data": {
      "text/plain": [
       "tensor([[-2.4770, -2.2710, -2.2189, -2.3473, -2.2564, -2.2488, -2.3559, -2.2512,\n",
       "         -2.3468, -2.2787]], grad_fn=<LogSoftmaxBackward>)"
      ]
     },
     "execution_count": 13,
     "metadata": {},
     "output_type": "execute_result"
    }
   ],
   "source": [
    "X=torch.rand((28,28))\n",
    "X=X.view(-1,28*28)\n",
    "output=net(X)\n",
    "output"
   ]
  },
  {
   "cell_type": "code",
   "execution_count": 14,
   "id": "distributed-attention",
   "metadata": {},
   "outputs": [],
   "source": [
    "optimizer=optim.Adam(net.parameters(),lr=0.0001)"
   ]
  },
  {
   "cell_type": "markdown",
   "id": "cooked-prophet",
   "metadata": {},
   "source": [
    "Adam is a combination of both AdaGrad and RMSProp. It is used to achieve better results faster."
   ]
  },
  {
   "cell_type": "code",
   "execution_count": 28,
   "id": "experienced-meeting",
   "metadata": {},
   "outputs": [
    {
     "name": "stdout",
     "output_type": "stream",
     "text": [
      "tensor(0.0803, grad_fn=<NllLossBackward>)\n",
      "tensor(0.0436, grad_fn=<NllLossBackward>)\n",
      "tensor(0.0134, grad_fn=<NllLossBackward>)\n"
     ]
    }
   ],
   "source": [
    "EPOCHS=3  ###FUll pass ovr data\n",
    "for epoch in  range(EPOCHS):\n",
    "    for data in trainset:\n",
    "        #data is a batch of featureset and lables\n",
    "        X, y = data\n",
    "        #print(X[0]) #print(y[0])\n",
    "        net.zero_grad()\n",
    "        output=net(X.view(-1,28*28))\n",
    "        loss=F.nll_loss(output,y)\n",
    "        loss.backward()\n",
    "        optimizer.step()\n",
    "    print(loss)"
   ]
  },
  {
   "cell_type": "code",
   "execution_count": 29,
   "id": "demographic-incident",
   "metadata": {},
   "outputs": [
    {
     "name": "stdout",
     "output_type": "stream",
     "text": [
      "Accuracy:  0.971\n"
     ]
    }
   ],
   "source": [
    "correct = 0\n",
    "total = 0\n",
    "\n",
    "with torch.no_grad():\n",
    "    for data in testset:\n",
    "        X, y = data\n",
    "        output = net(X.view(-1,784))\n",
    "        #print(output)\n",
    "        for idx, i in enumerate(output):\n",
    "            #print(torch.argmax(i), y[idx])\n",
    "            if torch.argmax(i) == y[idx]:\n",
    "                correct += 1\n",
    "            total += 1\n",
    "\n",
    "print(\"Accuracy: \", round(correct/total, 3))\n"
   ]
  },
  {
   "cell_type": "code",
   "execution_count": 30,
   "id": "detailed-gather",
   "metadata": {},
   "outputs": [
    {
     "data": {
      "image/png": "[encoded data removed]",
      "text/plain": [
       "<Figure size 432x288 with 1 Axes>"
      ]
     },
     "metadata": {
      "needs_background": "light"
     },
     "output_type": "display_data"
    },
    {
     "name": "stdout",
     "output_type": "stream",
     "text": [
      "tensor(4)\n"
     ]
    }
   ],
   "source": [
    "plt.imshow(X[0].view(28,28))\n",
    "plt.show()\n",
    "print(torch.argmax(net(X[0].view(-1,784))[0]))\n"
   ]
  },
  {
   "cell_type": "markdown",
   "id": "historic-creation",
   "metadata": {},
   "source": []
  }
 ],
 "metadata": {
  "kernelspec": {
   "display_name": "Python 3",
   "language": "python",
   "name": "python3"
  },
  "language_info": {
   "codemirror_mode": {
    "name": "ipython",
    "version": 3
   },
   "file_extension": ".py",
   "mimetype": "text/x-python",
   "name": "python",
   "nbconvert_exporter": "python",
   "pygments_lexer": "ipython3",
   "version": "3.6.12"
  }
 },
 "nbformat": 4,
 "nbformat_minor": 5
}
